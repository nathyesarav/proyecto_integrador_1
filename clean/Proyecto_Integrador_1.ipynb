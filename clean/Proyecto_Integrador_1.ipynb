{
 "cells": [
  {
   "cell_type": "markdown",
   "metadata": {},
   "source": [
    "### Propuesta de trabajo (requerimientos de aprobación)\n",
    "Transformaciones: Para este MVP no se te pide transformaciones de datos(aunque encuentres una motivo para hacerlo) pero trabajaremos en leer el dataset con el formato correcto. Puedes eliminar las columnas que no necesitan para responder las consultas o preparar los modelos de aprendizaje automático, y de esa manera optimizar el rendimiento de la API y el entrenamiento del modelo."
   ]
  },
  {
   "cell_type": "code",
   "execution_count": 1,
   "metadata": {},
   "outputs": [],
   "source": [
    "# Importar librería:\n",
    "import pandas as pd\n",
    "import numpy as np\n",
    "import json\n",
    "import ast\n",
    "from textblob import TextBlob\n",
    "from pandas import json_normalize\n",
    "from sentiment_analysis_spanish import sentiment_analysis\n",
    "from sklearn.metrics.pairwise import cosine_similarity"
   ]
  },
  {
   "cell_type": "code",
   "execution_count": 2,
   "metadata": {},
   "outputs": [],
   "source": [
    "with open('output_steam_games.json', 'r') as f:\n",
    "        steam_games_data = [json.loads(line) for line in f]"
   ]
  },
  {
   "cell_type": "code",
   "execution_count": 3,
   "metadata": {},
   "outputs": [
    {
     "data": {
      "text/plain": [
       "Index(['publisher', 'genres', 'app_name', 'title', 'url', 'release_date',\n",
       "       'tags', 'reviews_url', 'discount_price', 'specs', 'price',\n",
       "       'early_access', 'id', 'metascore', 'developer', 'user_id', 'steam_id',\n",
       "       'items', 'items_count'],\n",
       "      dtype='object')"
      ]
     },
     "execution_count": 3,
     "metadata": {},
     "output_type": "execute_result"
    }
   ],
   "source": [
    "df_steam_games = pd.DataFrame(steam_games_data)\n",
    "#df_steam_games.head(2)\n",
    "df_steam_games.columns"
   ]
  },
  {
   "cell_type": "code",
   "execution_count": 40,
   "metadata": {},
   "outputs": [
    {
     "data": {
      "text/plain": [
       "publisher          96362\n",
       "genres             91593\n",
       "app_name           88312\n",
       "title              90360\n",
       "url                88310\n",
       "release_date       90377\n",
       "tags               88473\n",
       "reviews_url        88312\n",
       "discount_price    120220\n",
       "specs              88980\n",
       "price              89687\n",
       "early_access       88310\n",
       "id                 88312\n",
       "metascore         117768\n",
       "developer          91609\n",
       "user_id            32135\n",
       "steam_id           32135\n",
       "items              32135\n",
       "items_count        32135\n",
       "dtype: int64"
      ]
     },
     "execution_count": 40,
     "metadata": {},
     "output_type": "execute_result"
    }
   ],
   "source": [
    "df_steam_games.isnull().sum()"
   ]
  },
  {
   "cell_type": "code",
   "execution_count": 4,
   "metadata": {},
   "outputs": [],
   "source": [
    "# Eliminar filas con valores nulos de las columnas 'genres' y 'id':\n",
    "df_steam_games = df_steam_games.dropna(subset=['genres','id'])"
   ]
  },
  {
   "cell_type": "code",
   "execution_count": null,
   "metadata": {},
   "outputs": [],
   "source": [
    "# Eliminar columnas que no se usan\n",
    "df_steam_games = df_steam_games.drop(['publisher','user_id', 'steam_id','items', 'items_count', 'app_name', 'url', 'reviews_url', 'discount_price','tags','developer'], axis=1)\n",
    "df_steam_games.columns"
   ]
  },
  {
   "cell_type": "markdown",
   "metadata": {},
   "source": [
    "Transformacion de Genres a columnas "
   ]
  },
  {
   "cell_type": "code",
   "execution_count": 5,
   "metadata": {},
   "outputs": [],
   "source": [
    "# Crear un nuevo DataFrame para almacenar los datos desglosados\n",
    "#data_games_genres = df_steam_games.head(10000)\n",
    "\n",
    "data_temp = pd.DataFrame()\n",
    "\n",
    "for index, row in df_steam_games.iterrows():\n",
    "    df_dummies = pd.get_dummies(row['genres'])\n",
    "    df_dummies['id'] = row['id']\n",
    "    df_dummies = df_dummies.groupby(by=[\"id\"]).sum()\n",
    "    data_temp = pd.concat([data_temp, df_dummies], ignore_index=False)\n",
    "\n",
    "data_temp = data_temp.fillna(0)\n",
    "data_temp"
   ]
  },
  {
   "cell_type": "code",
   "execution_count": null,
   "metadata": {},
   "outputs": [],
   "source": [
    "#unimos las categorias al dataframe de games\n",
    "merged_data_games = pd.merge(df_steam_games, data_temp, left_on='id', right_on='id')\n",
    "merged_data_games.head(2)"
   ]
  },
  {
   "cell_type": "markdown",
   "metadata": {},
   "source": [
    "Creamos la columna year a partir de release_date y cambiamos a numerico las columnas price y metascore"
   ]
  },
  {
   "cell_type": "code",
   "execution_count": null,
   "metadata": {},
   "outputs": [],
   "source": [
    "#Convertimos la columna 'release_date' en datetime y creamos una nueva columna 'year'\n",
    "merged_data_games['release_date'] = merged_data_games['release_date'].fillna('2023-01-01')\n",
    "merged_data_games['release_date'] = pd.to_datetime(merged_data_games['release_date'], errors = 'coerce')\n",
    "merged_data_games['year'] = merged_data_games['release_date'].dt.year\n",
    "# Eliminar la columna 'release_date'\n",
    "merged_data_games = merged_data_games.drop(columns=['release_date'])\n",
    "merged_data_games.head(2)"
   ]
  },
  {
   "cell_type": "code",
   "execution_count": null,
   "metadata": {},
   "outputs": [],
   "source": [
    "# Reemplazar 'Free to Play' con 0 y convertir la columna 'price' a tipo float\n",
    "merged_data_games['price'] = pd.to_numeric(merged_data_games['price'], errors='coerce').fillna(0)"
   ]
  },
  {
   "cell_type": "code",
   "execution_count": null,
   "metadata": {},
   "outputs": [],
   "source": [
    "# Reemplazar 'NA' y 'nan' con 0 en la columna 'metascore' y a tipo float\n",
    "merged_data_games['metascore'] = merged_data_games['metascore'].replace(['NA'], 0)\n",
    "merged_data_games['metascore'] = merged_data_games['metascore'].fillna(0).astype(float)\n",
    "merged_data_games.head(2)"
   ]
  },
  {
   "cell_type": "markdown",
   "metadata": {},
   "source": [
    "Creamos un nuevo Dataframe con los datos de los jugadores para recuperar los items"
   ]
  },
  {
   "cell_type": "code",
   "execution_count": null,
   "metadata": {},
   "outputs": [],
   "source": [
    "data_players = pd.DataFrame(steam_games_data)\n",
    "data_players.columns"
   ]
  },
  {
   "cell_type": "code",
   "execution_count": null,
   "metadata": {},
   "outputs": [],
   "source": [
    "# Eliminar columnas que no se usan\n",
    "data_players = data_players.drop(['publisher', 'genres', 'app_name', 'title', 'url', 'release_date',\n",
    "       'tags', 'reviews_url', 'discount_price', 'specs', 'price',\n",
    "       'early_access', 'id', 'metascore', 'developer'], axis=1)\n",
    "data_players.columns"
   ]
  },
  {
   "cell_type": "code",
   "execution_count": null,
   "metadata": {},
   "outputs": [],
   "source": [
    "# Eliminar filas con valores nulos de la columna 'id':\n",
    "data_players = data_players.dropna(subset=['user_id'])\n",
    "data_players.head(2)"
   ]
  },
  {
   "cell_type": "code",
   "execution_count": null,
   "metadata": {},
   "outputs": [],
   "source": [
    "#Se toma muestra de 10000 players para usarlo en la API posteriormente\n",
    "data_games_players = data_players.head(10000)\n",
    "data_games_players"
   ]
  },
  {
   "cell_type": "markdown",
   "metadata": {},
   "source": [
    "Del dataframe de jugadores se extrae un nuevo dataframe con los items"
   ]
  },
  {
   "cell_type": "code",
   "execution_count": null,
   "metadata": {},
   "outputs": [],
   "source": [
    "# Generamos un nuevo DF con los items de los jugadores\n",
    "data_players_items = pd.DataFrame(columns=['user_id', 'steam_id', 'item_id', 'item_name', 'playtime_forever', 'playtime_2weeks'])\n",
    "\n",
    "for index, row in data_players.iterrows():\n",
    "    temp_df = pd.DataFrame(row['items'])\n",
    "    temp_df['user_id'] = row['user_id']\n",
    "    temp_df['steam_id'] = row['steam_id']\n",
    "\n",
    "    data_players_items = pd.concat([data_players_items, temp_df], ignore_index=True)\n",
    "\n",
    "data_players_items.head()"
   ]
  },
  {
   "cell_type": "code",
   "execution_count": null,
   "metadata": {},
   "outputs": [],
   "source": [
    "#Convertimos a float el campo 'playtime_forever'\n",
    "data_players_items['playtime_forever'] = data_players_items['playtime_forever'].astype(float)"
   ]
  },
  {
   "cell_type": "markdown",
   "metadata": {},
   "source": [
    "Preparamos los datos para incluir las horas jugadas de cada juego en el dataframe de juegos"
   ]
  },
  {
   "cell_type": "code",
   "execution_count": null,
   "metadata": {},
   "outputs": [],
   "source": [
    "# Agrupamos por item_id\n",
    "data_items = data_players_items.drop(['user_id', 'steam_id', 'playtime_2weeks'], axis=1)\n",
    "data_items = data_items.groupby(by=['item_name']).sum()\n",
    "data_items.info"
   ]
  },
  {
   "cell_type": "code",
   "execution_count": null,
   "metadata": {},
   "outputs": [],
   "source": [
    "final_datagames = pd.merge(merged_data_games, data_items, left_on='title', right_on='item_name')\n",
    "final_datagames.head(2)"
   ]
  },
  {
   "cell_type": "code",
   "execution_count": null,
   "metadata": {},
   "outputs": [],
   "source": [
    "# Guardamos el dataframe de juegos con tiempo de juego como csv\n",
    "final_datagames.to_csv('data_games.csv', header=True, index=False)"
   ]
  },
  {
   "cell_type": "markdown",
   "metadata": {},
   "source": [
    "Preparamos un dataframe filtrado para agregar los generos y el año al dataframe de items"
   ]
  },
  {
   "cell_type": "code",
   "execution_count": null,
   "metadata": {},
   "outputs": [],
   "source": [
    "data_games_filter = final_datagames.drop(['genres', 'specs', 'price', 'early_access', 'playtime_forever','id'], axis=1)\n",
    "data_games_filter.columns"
   ]
  },
  {
   "cell_type": "code",
   "execution_count": null,
   "metadata": {},
   "outputs": [],
   "source": [
    "merged_data_players = pd.merge(data_players_items, data_games_filter, left_on='item_name', right_on='title')\n",
    "merged_data_players.head(2)"
   ]
  },
  {
   "cell_type": "markdown",
   "metadata": {},
   "source": [
    "Limpiamos los nombres de las columnas de categorias en los dos dataframes"
   ]
  },
  {
   "cell_type": "code",
   "execution_count": null,
   "metadata": {},
   "outputs": [],
   "source": [
    "merged_data_players = merged_data_players.rename(columns={'Animation &amp; Modeling':'Animation and Modeling',\n",
    "                                                          'Design &amp; Illustration':'Design and Illustration'})\n",
    "merged_data_players.columns"
   ]
  },
  {
   "cell_type": "code",
   "execution_count": null,
   "metadata": {},
   "outputs": [],
   "source": [
    "final_datagames = final_datagames.rename(columns={'Animation &amp; Modeling':'Animation and Modeling',\n",
    "                                                          'Design &amp; Illustration':'Design and Illustration'})\n",
    "final_datagames.columns"
   ]
  },
  {
   "cell_type": "markdown",
   "metadata": {},
   "source": [
    "Importamos el archivo de reviews"
   ]
  },
  {
   "cell_type": "code",
   "execution_count": null,
   "metadata": {},
   "outputs": [],
   "source": [
    "with open('australian_user_reviews.json', 'r') as f:\n",
    "        data = [ast.literal_eval(line) for line in f]\n",
    "df = json_normalize(data)"
   ]
  },
  {
   "cell_type": "code",
   "execution_count": null,
   "metadata": {},
   "outputs": [],
   "source": [
    "# Generamos un nuevo DF con los reviews de los jugadores\n",
    "data_player_reviews = pd.DataFrame(columns=['funny','posted','last_edited','item_id','helpful','recommend','review'])\n",
    "\n",
    "for index, row in df.iterrows():\n",
    "    temp_df = pd.DataFrame(row['reviews'])\n",
    "    temp_df['user_id'] = row['user_id']\n",
    "\n",
    "    data_player_reviews = pd.concat([data_player_reviews, temp_df], ignore_index=True)\n",
    "\n",
    "data_player_reviews.head()"
   ]
  },
  {
   "cell_type": "code",
   "execution_count": null,
   "metadata": {},
   "outputs": [],
   "source": [
    "# convertimos la columna recommend a 0/1\n",
    "data_player_reviews['recommend'] = data_player_reviews['recommend'].astype(int)\n",
    "data_player_reviews.head(2)"
   ]
  },
  {
   "cell_type": "code",
   "execution_count": null,
   "metadata": {},
   "outputs": [],
   "source": [
    "# Filtramos los reviews para anexarlo al dataframe de juegos\n",
    "data_player_reviews_filter = data_player_reviews.drop(['funny', 'posted', 'last_edited', 'helpful'], axis=1)\n",
    "recommended_games = data_player_reviews_filter.groupby(by=['item_id']).sum()\n",
    "recommended_games['id'] = recommended_games.index\n",
    "recommended_games['id'] = recommended_games['id'].astype(int)\n",
    "recommended_games.head(2)"
   ]
  },
  {
   "cell_type": "code",
   "execution_count": null,
   "metadata": {},
   "outputs": [],
   "source": [
    "# Obtenemos un nuevo dataframe con los juegos incluyendo la suma de recomendaciones \n",
    "data_games_wr = pd.merge(final_datagames, recommended_games, left_on='id', right_on='id')\n",
    "data_games_wr.head(2)"
   ]
  },
  {
   "cell_type": "code",
   "execution_count": null,
   "metadata": {},
   "outputs": [],
   "source": [
    "# Guardamos los CSV de final_datagames, merged_data_players y data_games_wr\n",
    "final_datagames.to_csv('data_games.csv', header=True, index=False)\n",
    "merged_data_players.to_csv('data_players.csv', header=True, index=False)\n",
    "data_games_wr.to_csv('data_games_wr.csv', header=True, index=False)"
   ]
  },
  {
   "cell_type": "markdown",
   "metadata": {},
   "source": [
    "### Desarrollo API: \n",
    "Propones disponibilizar los datos de la empresa usando el framework FastAPI. Las consultas que propones son las siguientes:\n",
    "Debes crear las siguientes funciones para los endpoints que se consumirán en la API, recuerden que deben tener un decorador por cada una (@app.get(‘/’)).\n",
    "\n",
    "def PlayTimeGenre( genero : str ): Debe devolver año con mas horas jugadas para dicho género.\n",
    "Ejemplo de retorno: {\"Año de lanzamiento con más horas jugadas para Género X\" : 2013}\n",
    "\n",
    "def UserForGenre( genero : str ): Debe devolver el usuario que acumula más horas jugadas para el género dado y una lista de la acumulación de horas jugadas por año.\n",
    "Ejemplo de retorno: {\"Usuario con más horas jugadas para Género X\" : us213ndjss09sdf, \"Horas jugadas\":[{Año: 2013, Horas: 203}, {Año: 2012, Horas: 100}, {Año: 2011, Horas: 23}]}\n",
    "\n",
    "def UsersRecommend( año : int ): Devuelve el top 3 de juegos MÁS recomendados por usuarios para el año dado. (reviews.recommend = True y comentarios positivos/neutrales)\n",
    "Ejemplo de retorno: [{\"Puesto 1\" : X}, {\"Puesto 2\" : Y},{\"Puesto 3\" : Z}]\n",
    "\n",
    "def UsersNotRecommend( año : int ): Devuelve el top 3 de juegos MENOS recomendados por usuarios para el año dado. (reviews.recommend = False y comentarios negativos)\n",
    "Ejemplo de retorno: [{\"Puesto 1\" : X}, {\"Puesto 2\" : Y},{\"Puesto 3\" : Z}]"
   ]
  },
  {
   "cell_type": "markdown",
   "metadata": {},
   "source": [
    "Código PlayTimeGenre"
   ]
  },
  {
   "cell_type": "code",
   "execution_count": null,
   "metadata": {},
   "outputs": [],
   "source": [
    "def PlayTimeGenre(genre: str):\n",
    "    if genre in data_games.columns:\n",
    "        games_genre = data_games.loc[(data_games[genre]==1)]\n",
    "        games_genre_year = games_genre.groupby(by=['year']).sum()\n",
    "        year = games_genre_year[games_genre_year['playtime_forever'] == games_genre_year['playtime_forever'].max()].index[0]\n",
    "        return year\n",
    "    else:\n",
    "        return 0"
   ]
  },
  {
   "cell_type": "markdown",
   "metadata": {},
   "source": [
    "Código UserForGenre"
   ]
  },
  {
   "cell_type": "code",
   "execution_count": null,
   "metadata": {},
   "outputs": [],
   "source": [
    "def UserForGenre(genre: str):\n",
    "    if genre in data_games.columns:\n",
    "        players_genre = data_players.loc[(data_players[genre]==1)]\n",
    "        players_genre_group = players_genre.groupby(by=['user_id']).sum()\n",
    "        max_player = players_genre_group[players_genre_group['playtime_forever'] == players_genre_group['playtime_forever'].max()].index[0]\n",
    "        max_player_genre_items = data_players.loc[(data_players[genre]==1) & (data_players['user_id']==max_player)]\n",
    "        max_player_genre_group = max_player_genre_items.groupby(by=['year']).sum()\n",
    "        max_player_genre_group = max_player_genre_group[(max_player_genre_group['playtime_forever'] != 0)]\n",
    "        playtime_max_player_genre = max_player_genre_group['playtime_forever'].to_dict()\n",
    "        response = {\"Usuario con más horas jugadas para Género \" + genre : max_player, \"Horas jugadas\":[playtime_max_player_genre]}\n",
    "        return response\n",
    "    else:\n",
    "        return 0"
   ]
  },
  {
   "cell_type": "markdown",
   "metadata": {},
   "source": [
    "Código UsersRecommend"
   ]
  },
  {
   "cell_type": "code",
   "execution_count": null,
   "metadata": {},
   "outputs": [],
   "source": [
    "def UsersRecommend(year: int):\n",
    "    if year in data_games_wr['year'].values:\n",
    "        data_games_wr_year = data_games_wr[data_games_wr['year'] == year]\n",
    "        data_games_wr_year = data_games_wr_year.sort_values('recommend',ascending=False)\n",
    "        recommended_games_list = data_games_wr_year['title'].head(3).tolist()\n",
    "        response = [{\"Puesto 1\" : recommended_games_list[0]}, {\"Puesto 2\" : recommended_games_list[1]},{\"Puesto 3\" : recommended_games_list[2]}]\n",
    "        return response\n",
    "    else:\n",
    "        return 0"
   ]
  },
  {
   "cell_type": "markdown",
   "metadata": {},
   "source": [
    "Código UsersNotRecommend"
   ]
  },
  {
   "cell_type": "code",
   "execution_count": null,
   "metadata": {},
   "outputs": [],
   "source": [
    "def UsersNotRecommend(year: int):\n",
    "    if year in data_games_wr['year'].values:\n",
    "        data_games_wr_year = data_games_wr[data_games_wr['year'] == year]\n",
    "        data_games_wr_year = data_games_wr_year.sort_values('recommend',ascending=True)\n",
    "        not_recommended_games_list = data_games_wr_year['title'].head(3).tolist()\n",
    "        response = [{\"Puesto 1\" : not_recommended_games_list[0]}, {\"Puesto 2\" : not_recommended_games_list[1]},{\"Puesto 3\" : not_recommended_games_list[2]}]\n",
    "        return response\n",
    "    else:\n",
    "        return 0"
   ]
  },
  {
   "cell_type": "markdown",
   "metadata": {},
   "source": [
    "### Sentiments\n",
    "Feature Engineering: \n",
    "En el dataset user_reviews se incluyen reseñas de juegos hechos por distintos usuarios. Debes crear la columna 'sentiment_analysis' aplicando análisis de sentimiento con NLP con la siguiente escala: debe tomar el valor '0' si es malo, '1' si es neutral y '2' si es positivo. Esta nueva columna debe reemplazar la de user_reviews.review para facilitar el trabajo de los modelos de machine learning y el análisis de datos. De no ser posible este análisis por estar ausente la reseña escrita, debe tomar el valor de 1.\n",
    "\n",
    "def sentiment_analysis( año : int ): Según el año de lanzamiento, se devuelve una lista con la cantidad de registros de reseñas de usuarios que se encuentren categorizados con un análisis de sentimiento.\n",
    "Ejemplo de retorno: {Negative = 182, Neutral = 120, Positive = 278}\n",
    "Feature Engineering: En el dataset user_reviews se incluyen reseñas de juegos hechos por distintos usuarios. Debes crear la columna 'sentiment_analysis' aplicando análisis de sentimiento con NLP con la siguiente escala: debe tomar el valor '0' si es malo, '1' si es neutral y '2' si es positivo. Esta nueva columna debe reemplazar la de user_reviews.review para facilitar el trabajo de los modelos de machine learning y el análisis de datos. De no ser posible este análisis por estar ausente la reseña escrita, debe tomar el valor de 1."
   ]
  },
  {
   "cell_type": "code",
   "execution_count": null,
   "metadata": {},
   "outputs": [],
   "source": [
    "with open('australian_user_reviews.json', 'r') as f:\n",
    "    data = [ast.literal_eval(line) for line in f]\n",
    "    #df = json_normalize(data)"
   ]
  },
  {
   "cell_type": "code",
   "execution_count": 3,
   "metadata": {},
   "outputs": [
    {
     "data": {
      "text/html": [
       "<div>\n",
       "<style scoped>\n",
       "    .dataframe tbody tr th:only-of-type {\n",
       "        vertical-align: middle;\n",
       "    }\n",
       "\n",
       "    .dataframe tbody tr th {\n",
       "        vertical-align: top;\n",
       "    }\n",
       "\n",
       "    .dataframe thead th {\n",
       "        text-align: right;\n",
       "    }\n",
       "</style>\n",
       "<table border=\"1\" class=\"dataframe\">\n",
       "  <thead>\n",
       "    <tr style=\"text-align: right;\">\n",
       "      <th></th>\n",
       "      <th>funny</th>\n",
       "      <th>posted</th>\n",
       "      <th>last_edited</th>\n",
       "      <th>item_id</th>\n",
       "      <th>helpful</th>\n",
       "      <th>recommend</th>\n",
       "      <th>review</th>\n",
       "      <th>user_id</th>\n",
       "    </tr>\n",
       "  </thead>\n",
       "  <tbody>\n",
       "    <tr>\n",
       "      <th>0</th>\n",
       "      <td>NaN</td>\n",
       "      <td>Posted November 5, 2011.</td>\n",
       "      <td>NaN</td>\n",
       "      <td>1250</td>\n",
       "      <td>No ratings yet</td>\n",
       "      <td>1</td>\n",
       "      <td>Simple yet with great replayability. In my opi...</td>\n",
       "      <td>76561197970982479</td>\n",
       "    </tr>\n",
       "    <tr>\n",
       "      <th>1</th>\n",
       "      <td>NaN</td>\n",
       "      <td>Posted July 15, 2011.</td>\n",
       "      <td>NaN</td>\n",
       "      <td>22200</td>\n",
       "      <td>No ratings yet</td>\n",
       "      <td>1</td>\n",
       "      <td>It's unique and worth a playthrough.</td>\n",
       "      <td>76561197970982479</td>\n",
       "    </tr>\n",
       "  </tbody>\n",
       "</table>\n",
       "</div>"
      ],
      "text/plain": [
       "  funny                    posted last_edited  item_id         helpful   \n",
       "0   NaN  Posted November 5, 2011.         NaN     1250  No ratings yet  \\\n",
       "1   NaN     Posted July 15, 2011.         NaN    22200  No ratings yet   \n",
       "\n",
       "   recommend                                             review   \n",
       "0          1  Simple yet with great replayability. In my opi...  \\\n",
       "1          1               It's unique and worth a playthrough.   \n",
       "\n",
       "             user_id  \n",
       "0  76561197970982479  \n",
       "1  76561197970982479  "
      ]
     },
     "execution_count": 3,
     "metadata": {},
     "output_type": "execute_result"
    }
   ],
   "source": [
    "data_reviews = pd.read_csv('data_reviews.csv')\n",
    "data_reviews.head(2)"
   ]
  },
  {
   "cell_type": "code",
   "execution_count": 5,
   "metadata": {},
   "outputs": [],
   "source": [
    "# Función para asignar un valor numérico al sentimiento\n",
    "def analyze_sentiment(reviews_list):\n",
    "    sentiment_values = []\n",
    "    for review_dict in reviews_list:\n",
    "        review_text = review_dict  # Obtener el texto de la reseña\n",
    "        if review_text:\n",
    "            analysis = TextBlob(review_text)\n",
    "            sentiment = analysis.sentiment.polarity\n",
    "            if sentiment < 0:\n",
    "                sentiment_values.append(0)  # Malo\n",
    "            elif sentiment == 0:\n",
    "                sentiment_values.append(1)  # Neutral\n",
    "            else:\n",
    "                sentiment_values.append(2)  # Positivo\n",
    "    if sentiment_values:\n",
    "        return max(set(sentiment_values), key=sentiment_values.count)\n",
    "    else:\n",
    "        return 1  # Valor predeterminado si no hay reseñas"
   ]
  },
  {
   "cell_type": "code",
   "execution_count": null,
   "metadata": {},
   "outputs": [],
   "source": [
    "# Aplicar el análisis de sentimiento a cada lista de reseñas y crear la nueva columna\n",
    "data_reviews['sentiment_analysis'] = data_reviews['review'].apply(analyze_sentiment)"
   ]
  },
  {
   "cell_type": "code",
   "execution_count": null,
   "metadata": {},
   "outputs": [],
   "source": [
    "# Reemplazar la columna 'reviews' por 'sentiment_analysis'\n",
    "data_reviews.drop(columns=['review'], inplace=True)\n",
    "data_reviews.head(2)"
   ]
  },
  {
   "cell_type": "code",
   "execution_count": null,
   "metadata": {},
   "outputs": [],
   "source": [
    "# Agregamos columna 'year' a partir de 'posted'\n",
    "data_reviews['year'] = data_reviews['posted'].str[-4:]\n",
    "data_reviews['year'] = pd.to_numeric(data_reviews['year'], errors='coerce').fillna(0)\n",
    "data_reviews['year'].unique\n",
    "data_reviews.head()"
   ]
  },
  {
   "cell_type": "code",
   "execution_count": null,
   "metadata": {},
   "outputs": [],
   "source": [
    "# Guardamos el CSV de data_reviews\n",
    "data_reviews.to_csv('data_reviews.csv', header=True, index=False)"
   ]
  },
  {
   "cell_type": "markdown",
   "metadata": {},
   "source": [
    "Código sentiment_analysis"
   ]
  },
  {
   "cell_type": "code",
   "execution_count": null,
   "metadata": {},
   "outputs": [],
   "source": [
    "def sentiment_analysis(year: int):\n",
    "    if year in data_reviews['year'].values:\n",
    "        if 0 in data_reviews['sentiment_analysis'].unique():\n",
    "            neg = data_reviews['sentiment_analysis'].value_counts()[0]\n",
    "        else:\n",
    "            neg = 0\n",
    "        if 1 in data_reviews['sentiment_analysis'].unique():\n",
    "            neutr = data_reviews['sentiment_analysis'].value_counts()[1]\n",
    "        else:\n",
    "            neutr = 0\n",
    "        if 2 in data_reviews['sentiment_analysis'].unique():\n",
    "            pos = data_reviews['sentiment_analysis'].value_counts()[2]\n",
    "        else:\n",
    "            pos = 0\n",
    "        response = {\"Negative = \" + neg, \"Neutral = \" + neutr, \"Positive = \" + pos}\n",
    "        return response\n",
    "    else:\n",
    "        return 0"
   ]
  },
  {
   "cell_type": "markdown",
   "metadata": {},
   "source": [
    "### Modelo de aprendizaje automático\n",
    "Una vez que toda la data es consumible por la API, está lista para consumir por los departamentos de Analytics y Machine Learning, y nuestro EDA nos permite entender bien los datos a los que tenemos acceso, es hora de entrenar nuestro modelo de machine learning para armar un sistema de recomendación. \n",
    "Para ello, te ofrecen dos propuestas de trabajo: \n",
    "En la primera, el modelo deberá tener una relación ítem-ítem, esto es se toma un item, en base a que tan similar esa ese ítem al resto, se recomiendan similares. Aquí el input es un juego y el output es una lista de juegos recomendados, para ello recomendamos aplicar la similitud del coseno. \n",
    "\n",
    "La otra propuesta para el sistema de recomendación debe aplicar el filtro user-item, esto es tomar un usuario, se encuentran usuarios similares y se recomiendan ítems que a esos usuarios similares les gustaron. En este caso el input es un usuario y el output es una lista de juegos que se le recomienda a ese usuario, en general se explican como “A usuarios que son similares a tí también les gustó…”. Deben crear al menos uno de los dos sistemas de recomendación (Si se atreven a tomar el desafío, para mostrar su capacidad al equipo, ¡pueden hacer ambos!). Tu líder pide que el modelo derive obligatoriamente en un GET/POST en la API símil al siguiente formato:\n",
    "Si es un sistema de recomendación item-item:\n",
    "def recomendacion_juego( id de producto ): Ingresando el id de producto, deberíamos recibir una lista con 5 juegos recomendados similares al ingresado.\n",
    "Si es un sistema de recomendación user-item:\n",
    "def recomendacion_usuario( id de usuario ): Ingresando el id de un usuario, deberíamos recibir una lista con 5 juegos recomendados para dicho usuario."
   ]
  },
  {
   "cell_type": "code",
   "execution_count": 6,
   "metadata": {},
   "outputs": [
    {
     "data": {
      "text/html": [
       "<div>\n",
       "<style scoped>\n",
       "    .dataframe tbody tr th:only-of-type {\n",
       "        vertical-align: middle;\n",
       "    }\n",
       "\n",
       "    .dataframe tbody tr th {\n",
       "        vertical-align: top;\n",
       "    }\n",
       "\n",
       "    .dataframe thead th {\n",
       "        text-align: right;\n",
       "    }\n",
       "</style>\n",
       "<table border=\"1\" class=\"dataframe\">\n",
       "  <thead>\n",
       "    <tr style=\"text-align: right;\">\n",
       "      <th></th>\n",
       "      <th>genres</th>\n",
       "      <th>title</th>\n",
       "      <th>specs</th>\n",
       "      <th>price</th>\n",
       "      <th>early_access</th>\n",
       "      <th>id</th>\n",
       "      <th>metascore</th>\n",
       "      <th>Action</th>\n",
       "      <th>Casual</th>\n",
       "      <th>Indie</th>\n",
       "      <th>...</th>\n",
       "      <th>Web Publishing</th>\n",
       "      <th>Education</th>\n",
       "      <th>Software Training</th>\n",
       "      <th>Design &amp;amp; Illustration</th>\n",
       "      <th>Audio Production</th>\n",
       "      <th>Photo Editing</th>\n",
       "      <th>Accounting</th>\n",
       "      <th>year</th>\n",
       "      <th>playtime_forever</th>\n",
       "      <th>recommend</th>\n",
       "    </tr>\n",
       "  </thead>\n",
       "  <tbody>\n",
       "    <tr>\n",
       "      <th>0</th>\n",
       "      <td>['Action', 'Indie', 'Racing']</td>\n",
       "      <td>Carmageddon Max Pack</td>\n",
       "      <td>['Single-player', 'Multi-player', 'Steam Tradi...</td>\n",
       "      <td>9.99</td>\n",
       "      <td>False</td>\n",
       "      <td>282010</td>\n",
       "      <td>0.0</td>\n",
       "      <td>1.0</td>\n",
       "      <td>0.0</td>\n",
       "      <td>1.0</td>\n",
       "      <td>...</td>\n",
       "      <td>0.0</td>\n",
       "      <td>0.0</td>\n",
       "      <td>0.0</td>\n",
       "      <td>0.0</td>\n",
       "      <td>0.0</td>\n",
       "      <td>0.0</td>\n",
       "      <td>0.0</td>\n",
       "      <td>1997.0</td>\n",
       "      <td>2434.0</td>\n",
       "      <td>1</td>\n",
       "    </tr>\n",
       "    <tr>\n",
       "      <th>1</th>\n",
       "      <td>['Action']</td>\n",
       "      <td>Half-Life</td>\n",
       "      <td>['Single-player', 'Multi-player', 'Valve Anti-...</td>\n",
       "      <td>9.99</td>\n",
       "      <td>False</td>\n",
       "      <td>70</td>\n",
       "      <td>96.0</td>\n",
       "      <td>1.0</td>\n",
       "      <td>0.0</td>\n",
       "      <td>0.0</td>\n",
       "      <td>...</td>\n",
       "      <td>0.0</td>\n",
       "      <td>0.0</td>\n",
       "      <td>0.0</td>\n",
       "      <td>0.0</td>\n",
       "      <td>0.0</td>\n",
       "      <td>0.0</td>\n",
       "      <td>0.0</td>\n",
       "      <td>1998.0</td>\n",
       "      <td>474074.0</td>\n",
       "      <td>61</td>\n",
       "    </tr>\n",
       "  </tbody>\n",
       "</table>\n",
       "<p>2 rows × 32 columns</p>\n",
       "</div>"
      ],
      "text/plain": [
       "                          genres                 title   \n",
       "0  ['Action', 'Indie', 'Racing']  Carmageddon Max Pack  \\\n",
       "1                     ['Action']             Half-Life   \n",
       "\n",
       "                                               specs  price  early_access   \n",
       "0  ['Single-player', 'Multi-player', 'Steam Tradi...   9.99         False  \\\n",
       "1  ['Single-player', 'Multi-player', 'Valve Anti-...   9.99         False   \n",
       "\n",
       "       id  metascore  Action  Casual  Indie  ...  Web Publishing  Education   \n",
       "0  282010        0.0     1.0     0.0    1.0  ...             0.0        0.0  \\\n",
       "1      70       96.0     1.0     0.0    0.0  ...             0.0        0.0   \n",
       "\n",
       "   Software Training  Design &amp; Illustration  Audio Production   \n",
       "0                0.0                        0.0               0.0  \\\n",
       "1                0.0                        0.0               0.0   \n",
       "\n",
       "   Photo Editing  Accounting    year  playtime_forever  recommend  \n",
       "0            0.0         0.0  1997.0            2434.0          1  \n",
       "1            0.0         0.0  1998.0          474074.0         61  \n",
       "\n",
       "[2 rows x 32 columns]"
      ]
     },
     "execution_count": 6,
     "metadata": {},
     "output_type": "execute_result"
    }
   ],
   "source": [
    "data_games = pd.read_csv('data_games_wr.csv')\n",
    "data_games.head(2)"
   ]
  },
  {
   "cell_type": "code",
   "execution_count": 3,
   "metadata": {},
   "outputs": [
    {
     "data": {
      "text/plain": [
       "Index(['genres', 'title', 'specs', 'price', 'early_access', 'id', 'metascore',\n",
       "       'Action', 'Casual', 'Indie', 'Simulation', 'Strategy', 'Free to Play',\n",
       "       'RPG', 'Sports', 'Adventure', 'Racing', 'Early Access',\n",
       "       'Massively Multiplayer', 'Animation &amp; Modeling', 'Video Production',\n",
       "       'Utilities', 'Web Publishing', 'Education', 'Software Training',\n",
       "       'Design &amp; Illustration', 'Audio Production', 'Photo Editing',\n",
       "       'Accounting', 'year', 'playtime_forever', 'recommend'],\n",
       "      dtype='object')"
      ]
     },
     "execution_count": 3,
     "metadata": {},
     "output_type": "execute_result"
    }
   ],
   "source": [
    "data_games.columns"
   ]
  },
  {
   "cell_type": "code",
   "execution_count": 7,
   "metadata": {},
   "outputs": [
    {
     "data": {
      "text/html": [
       "<div>\n",
       "<style scoped>\n",
       "    .dataframe tbody tr th:only-of-type {\n",
       "        vertical-align: middle;\n",
       "    }\n",
       "\n",
       "    .dataframe tbody tr th {\n",
       "        vertical-align: top;\n",
       "    }\n",
       "\n",
       "    .dataframe thead th {\n",
       "        text-align: right;\n",
       "    }\n",
       "</style>\n",
       "<table border=\"1\" class=\"dataframe\">\n",
       "  <thead>\n",
       "    <tr style=\"text-align: right;\">\n",
       "      <th></th>\n",
       "      <th>id</th>\n",
       "      <th>Action</th>\n",
       "      <th>Casual</th>\n",
       "      <th>Indie</th>\n",
       "      <th>Simulation</th>\n",
       "      <th>Strategy</th>\n",
       "      <th>Free to Play</th>\n",
       "      <th>RPG</th>\n",
       "      <th>Sports</th>\n",
       "      <th>Adventure</th>\n",
       "      <th>...</th>\n",
       "      <th>Video Production</th>\n",
       "      <th>Utilities</th>\n",
       "      <th>Web Publishing</th>\n",
       "      <th>Education</th>\n",
       "      <th>Software Training</th>\n",
       "      <th>Design &amp;amp; Illustration</th>\n",
       "      <th>Audio Production</th>\n",
       "      <th>Photo Editing</th>\n",
       "      <th>Accounting</th>\n",
       "      <th>recommend</th>\n",
       "    </tr>\n",
       "  </thead>\n",
       "  <tbody>\n",
       "    <tr>\n",
       "      <th>0</th>\n",
       "      <td>282010</td>\n",
       "      <td>1.0</td>\n",
       "      <td>0.0</td>\n",
       "      <td>1.0</td>\n",
       "      <td>0.0</td>\n",
       "      <td>0.0</td>\n",
       "      <td>0.0</td>\n",
       "      <td>0.0</td>\n",
       "      <td>0.0</td>\n",
       "      <td>0.0</td>\n",
       "      <td>...</td>\n",
       "      <td>0.0</td>\n",
       "      <td>0.0</td>\n",
       "      <td>0.0</td>\n",
       "      <td>0.0</td>\n",
       "      <td>0.0</td>\n",
       "      <td>0.0</td>\n",
       "      <td>0.0</td>\n",
       "      <td>0.0</td>\n",
       "      <td>0.0</td>\n",
       "      <td>1</td>\n",
       "    </tr>\n",
       "    <tr>\n",
       "      <th>1</th>\n",
       "      <td>70</td>\n",
       "      <td>1.0</td>\n",
       "      <td>0.0</td>\n",
       "      <td>0.0</td>\n",
       "      <td>0.0</td>\n",
       "      <td>0.0</td>\n",
       "      <td>0.0</td>\n",
       "      <td>0.0</td>\n",
       "      <td>0.0</td>\n",
       "      <td>0.0</td>\n",
       "      <td>...</td>\n",
       "      <td>0.0</td>\n",
       "      <td>0.0</td>\n",
       "      <td>0.0</td>\n",
       "      <td>0.0</td>\n",
       "      <td>0.0</td>\n",
       "      <td>0.0</td>\n",
       "      <td>0.0</td>\n",
       "      <td>0.0</td>\n",
       "      <td>0.0</td>\n",
       "      <td>61</td>\n",
       "    </tr>\n",
       "  </tbody>\n",
       "</table>\n",
       "<p>2 rows × 24 columns</p>\n",
       "</div>"
      ],
      "text/plain": [
       "       id  Action  Casual  Indie  Simulation  Strategy  Free to Play  RPG   \n",
       "0  282010     1.0     0.0    1.0         0.0       0.0           0.0  0.0  \\\n",
       "1      70     1.0     0.0    0.0         0.0       0.0           0.0  0.0   \n",
       "\n",
       "   Sports  Adventure  ...  Video Production  Utilities  Web Publishing   \n",
       "0     0.0        0.0  ...               0.0        0.0             0.0  \\\n",
       "1     0.0        0.0  ...               0.0        0.0             0.0   \n",
       "\n",
       "   Education  Software Training  Design &amp; Illustration  Audio Production   \n",
       "0        0.0                0.0                        0.0               0.0  \\\n",
       "1        0.0                0.0                        0.0               0.0   \n",
       "\n",
       "   Photo Editing  Accounting  recommend  \n",
       "0            0.0         0.0          1  \n",
       "1            0.0         0.0         61  \n",
       "\n",
       "[2 rows x 24 columns]"
      ]
     },
     "execution_count": 7,
     "metadata": {},
     "output_type": "execute_result"
    }
   ],
   "source": [
    "# Eliminar la columna 'release_date'\n",
    "ItemUser = data_games.drop(columns=['genres', 'title', 'specs', 'price', 'early_access', 'metascore', 'year', 'playtime_forever'])\n",
    "ItemUser.head(2)"
   ]
  },
  {
   "cell_type": "code",
   "execution_count": 11,
   "metadata": {},
   "outputs": [
    {
     "data": {
      "text/plain": [
       "Index(['id', 'Action', 'Casual', 'Indie', 'Simulation', 'Strategy',\n",
       "       'Free to Play', 'RPG', 'Sports', 'Adventure', 'Racing', 'Early Access',\n",
       "       'Massively Multiplayer', 'Animation &amp; Modeling', 'Video Production',\n",
       "       'Utilities', 'Web Publishing', 'Education', 'Software Training',\n",
       "       'Design &amp; Illustration', 'Audio Production', 'Photo Editing',\n",
       "       'Accounting', 'recommend'],\n",
       "      dtype='object')"
      ]
     },
     "execution_count": 11,
     "metadata": {},
     "output_type": "execute_result"
    }
   ],
   "source": [
    "ItemUser.columns"
   ]
  },
  {
   "cell_type": "code",
   "execution_count": 12,
   "metadata": {},
   "outputs": [],
   "source": [
    "# Buscar el cliente de posición 70:\n",
    "item_similarity = pd.DataFrame(cosine_similarity(ItemUser))"
   ]
  },
  {
   "cell_type": "code",
   "execution_count": 13,
   "metadata": {},
   "outputs": [],
   "source": [
    "# Cargar datos, asumiendo que ItemUser es tu DataFrame\n",
    "# Calcular la similitud coseno entre los ítems\n",
    "item_similarity = cosine_similarity(ItemUser)"
   ]
  },
  {
   "cell_type": "code",
   "execution_count": 15,
   "metadata": {},
   "outputs": [],
   "source": [
    "# Crear un DataFrame para almacenar las puntuaciones de similitud\n",
    "item_similarity_df = pd.DataFrame(item_similarity, index=ItemUser.index, columns=ItemUser.index)"
   ]
  },
  {
   "cell_type": "code",
   "execution_count": null,
   "metadata": {},
   "outputs": [],
   "source": [
    "# Guardamos el CSV de data_reviews\n",
    "item_similarity_df.to_csv('item_similarity_df.csv', header=True, index=False)"
   ]
  },
  {
   "cell_type": "code",
   "execution_count": 16,
   "metadata": {},
   "outputs": [],
   "source": [
    "# Función para obtener recomendaciones para un ítem específico\n",
    "def get_item_recommendations(item_id, top_n=5):\n",
    "    # Obtener las puntuaciones de similitud para el ítem de entrada\n",
    "    similar_items = item_similarity_df[item_id]\n",
    "    # Ordenar los ítems según la similitud\n",
    "    similar_items = similar_items.sort_values(ascending=False)\n",
    "    # Obtener las recomendaciones (excluyendo el propio ítem)\n",
    "    recommendations = similar_items.drop(item_id).head(top_n)\n",
    "    return recommendations"
   ]
  },
  {
   "cell_type": "code",
   "execution_count": 20,
   "metadata": {},
   "outputs": [
    {
     "data": {
      "text/plain": [
       "[49, 64, 86, 2077, 2164]"
      ]
     },
     "execution_count": 20,
     "metadata": {},
     "output_type": "execute_result"
    }
   ],
   "source": [
    "# Ejemplo de recomendación para un ítem específico:\n",
    "item_id = 70\n",
    "recommendations = get_item_recommendations(item_id, top_n=5).index.to_list()\n",
    "recommendations"
   ]
  }
 ],
 "metadata": {
  "kernelspec": {
   "display_name": "base",
   "language": "python",
   "name": "python3"
  },
  "language_info": {
   "codemirror_mode": {
    "name": "ipython",
    "version": 3
   },
   "file_extension": ".py",
   "mimetype": "text/x-python",
   "name": "python",
   "nbconvert_exporter": "python",
   "pygments_lexer": "ipython3",
   "version": "3.10.9"
  },
  "orig_nbformat": 4
 },
 "nbformat": 4,
 "nbformat_minor": 2
}
